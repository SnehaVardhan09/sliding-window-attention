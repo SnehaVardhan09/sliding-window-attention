{
 "cells": [
  {
   "cell_type": "code",
   "execution_count": 2,
   "metadata": {},
   "outputs": [
    {
     "data": {
      "text/plain": [
       "[{'Kandregula'}, {'Sneha'}, {'Vardhan'}, {'AI'}, {'EEE'}]"
      ]
     },
     "execution_count": 2,
     "metadata": {},
     "output_type": "execute_result"
    }
   ],
   "source": [
    "# create a list of tuple with the token and the time-step\n",
    "\n",
    "print_order = ['Kandregula', 'Sneha', 'Vardhan', 'AI', 'EEE']\n",
    "sequence =  [{print_order[i]} for i in range(len(print_order))]\n",
    "sequence"
   ]
  },
  {
   "cell_type": "code",
   "execution_count": 3,
   "metadata": {},
   "outputs": [],
   "source": [
    "sliding_window_size = 3"
   ]
  },
  {
   "cell_type": "code",
   "execution_count": 14,
   "metadata": {},
   "outputs": [],
   "source": [
    "def sliding_window_attention(seq: list[set[str]], w: int):\n",
    "    seq_len = len(seq)\n",
    "    attention_scores: list[list[set]] = [[None for _ in range(seq_len)] for _ in range(seq_len)]\n",
    "    for i, q_tokens_set in enumerate(seq):\n",
    "        for j, k_tokens_set in enumerate(seq):\n",
    "            if j > i:  #upper triangle is all None\n",
    "                continue\n",
    "            if i - j >= w: # each token can only attend to the previous W tokens\n",
    "                continue\n",
    "            attention = set()\n",
    "\n",
    "            #add all tokens from q_tokens_set to attention_result\n",
    "            attention.update(q_tokens_set)\n",
    "\n",
    "            #add all tokens form k_tokens_set to attention_result\n",
    "            attention.update(k_tokens_set)\n",
    "\n",
    "            attention_scores[i][j] = attention\n",
    "    return attention_scores"
   ]
  },
  {
   "cell_type": "code",
   "execution_count": 19,
   "metadata": {},
   "outputs": [
    {
     "data": {
      "text/plain": [
       "[[None, None, None, None, None],\n",
       " [None, None, None, None, None],\n",
       " [None, None, None, None, None],\n",
       " [None, None, None, None, None],\n",
       " [None, None, None, None, None]]"
      ]
     },
     "execution_count": 19,
     "metadata": {},
     "output_type": "execute_result"
    }
   ],
   "source": [
    "seq_len = len(sequence)\n",
    "attention_scores: list[list[set]] = [[None for _ in range(seq_len)] for _ in range(seq_len)]\n",
    "attention_scores"
   ]
  },
  {
   "cell_type": "code",
   "execution_count": null,
   "metadata": {},
   "outputs": [],
   "source": []
  }
 ],
 "metadata": {
  "kernelspec": {
   "display_name": "Python 3",
   "language": "python",
   "name": "python3"
  },
  "language_info": {
   "codemirror_mode": {
    "name": "ipython",
    "version": 3
   },
   "file_extension": ".py",
   "mimetype": "text/x-python",
   "name": "python",
   "nbconvert_exporter": "python",
   "pygments_lexer": "ipython3",
   "version": "3.10.1"
  }
 },
 "nbformat": 4,
 "nbformat_minor": 2
}
